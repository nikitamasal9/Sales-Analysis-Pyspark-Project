{
 "cells": [
  {
   "cell_type": "markdown",
   "id": "e7d22b90-235b-45b0-9ea5-93195e746925",
   "metadata": {},
   "source": [
    "Importing necessary modules"
   ]
  },
  {
   "cell_type": "code",
   "execution_count": 1,
   "id": "a6380ca9-ff57-4497-81c8-0f5c4adb66fc",
   "metadata": {},
   "outputs": [],
   "source": [
    "from pyspark.sql.types import StructType, StructField, IntegerType, StringType, DateType"
   ]
  },
  {
   "cell_type": "code",
   "execution_count": 2,
   "id": "304a4dd6-b879-4e74-9f83-a21c9a34ab66",
   "metadata": {},
   "outputs": [],
   "source": [
    "import pyspark\n",
    "import pyspark.sql.functions as F\n",
    "import os"
   ]
  },
  {
   "cell_type": "markdown",
   "id": "78651f83-68c2-4e97-ae76-b0b6e5e9d137",
   "metadata": {},
   "source": [
    "A spark session has been created"
   ]
  },
  {
   "cell_type": "code",
   "execution_count": 3,
   "id": "d9b63c3c-9f05-4234-a765-580916684314",
   "metadata": {},
   "outputs": [
    {
     "name": "stdout",
     "output_type": "stream",
     "text": [
      "24/03/11 13:25:28 WARN Utils: Your hostname, DESKTOP-77VPNBL resolves to a loopback address: 127.0.1.1; using 172.25.173.185 instead (on interface eth0)\n",
      "24/03/11 13:25:28 WARN Utils: Set SPARK_LOCAL_IP if you need to bind to another address\n"
     ]
    },
    {
     "name": "stderr",
     "output_type": "stream",
     "text": [
      "Setting default log level to \"WARN\".\n",
      "To adjust logging level use sc.setLogLevel(newLevel). For SparkR, use setLogLevel(newLevel).\n"
     ]
    },
    {
     "name": "stdout",
     "output_type": "stream",
     "text": [
      "24/03/11 13:25:32 WARN NativeCodeLoader: Unable to load native-hadoop library for your platform... using builtin-java classes where applicable\n"
     ]
    }
   ],
   "source": [
    "from pyspark.sql import SparkSession\n",
    "\n",
    "spark = SparkSession.builder.appName('Spark project')\\\n",
    "        .getOrCreate()"
   ]
  },
  {
   "cell_type": "markdown",
   "id": "e8e093d1-11b7-404f-96a4-9f7bab2ea119",
   "metadata": {},
   "source": [
    "Importing necessary datasets"
   ]
  },
  {
   "cell_type": "code",
   "execution_count": 4,
   "id": "e20dc1cf-5aec-4614-96e1-3409b37e933a",
   "metadata": {},
   "outputs": [],
   "source": [
    "schema = StructType([\n",
    "    StructField(\"product_id\", IntegerType(), True),\n",
    "    StructField(\"customer_id\", StringType(), True),\n",
    "    StructField(\"order_date\", DateType(), True),\n",
    "    StructField(\"location\", StringType(), True),\n",
    "    StructField(\"source_order\", StringType(), True)\n",
    "])"
   ]
  },
  {
   "cell_type": "code",
   "execution_count": 5,
   "id": "619cb92d-dc19-4eb4-bf4a-19e4a3cfc840",
   "metadata": {},
   "outputs": [
    {
     "data": {
      "text/plain": [
       "DataFrame[product_id: int, customer_id: string, order_date: date, location: string, source_order: string]"
      ]
     },
     "metadata": {},
     "output_type": "display_data"
    }
   ],
   "source": [
    "sales_df = spark.read.format(\"csv\").option(\"inferschema\",\"true\").schema(schema).load(\"../dataset/sales.csv.txt\")\n",
    "display(sales_df)"
   ]
  },
  {
   "cell_type": "code",
   "execution_count": 6,
   "id": "489670ed-e33c-4c5a-ba2f-e2b668c34af3",
   "metadata": {},
   "outputs": [
    {
     "name": "stderr",
     "output_type": "stream",
     "text": [
      "                                                                                \r"
     ]
    },
    {
     "name": "stdout",
     "output_type": "stream",
     "text": [
      "+----------+-----------+----------+--------+------------+\n",
      "|product_id|customer_id|order_date|location|source_order|\n",
      "+----------+-----------+----------+--------+------------+\n",
      "|         1|          A|2023-01-01|   India|      Swiggy|\n",
      "|         2|          A|2022-01-01|   India|      Swiggy|\n",
      "|         2|          A|2023-01-07|   India|      Swiggy|\n",
      "|         3|          A|2023-01-10|   India|  Restaurant|\n",
      "|         3|          A|2022-01-11|   India|      Swiggy|\n",
      "|         3|          A|2023-01-11|   India|  Restaurant|\n",
      "|         2|          B|2022-02-01|   India|      Swiggy|\n",
      "|         2|          B|2023-01-02|   India|      Swiggy|\n",
      "|         1|          B|2023-01-04|   India|  Restaurant|\n",
      "|         1|          B|2023-02-11|   India|      Swiggy|\n",
      "|         3|          B|2023-01-16|   India|      zomato|\n",
      "|         3|          B|2022-02-01|   India|      zomato|\n",
      "|         3|          C|2023-01-01|   India|      zomato|\n",
      "|         1|          C|2023-01-01|      UK|      Swiggy|\n",
      "|         6|          C|2022-01-07|      UK|      zomato|\n",
      "|         3|          D|2023-02-16|      UK|  Restaurant|\n",
      "|         5|          D|2022-02-01|      UK|      zomato|\n",
      "|         3|          E|2023-02-01|      UK|  Restaurant|\n",
      "|         4|          E|2023-02-01|      UK|      Swiggy|\n",
      "|         4|          E|2023-02-07|      UK|  Restaurant|\n",
      "+----------+-----------+----------+--------+------------+\n",
      "only showing top 20 rows\n",
      "\n"
     ]
    }
   ],
   "source": [
    "sales_df.show()"
   ]
  },
  {
   "cell_type": "code",
   "execution_count": 7,
   "id": "5113a8e4-1dea-4893-a5e9-cb8e6e7c22e1",
   "metadata": {},
   "outputs": [],
   "source": [
    "schema = StructType([\n",
    "    StructField(\"product_id\", IntegerType(), True),\n",
    "    StructField(\"product_name\", StringType(), True),\n",
    "    StructField(\"price\", StringType(), True)\n",
    "])"
   ]
  },
  {
   "cell_type": "code",
   "execution_count": 8,
   "id": "8174b45a-ec51-4121-92b1-ff7e739b5bbc",
   "metadata": {},
   "outputs": [
    {
     "data": {
      "text/plain": [
       "DataFrame[product_id: int, customer_id: string, order_date: date, location: string, source_order: string]"
      ]
     },
     "metadata": {},
     "output_type": "display_data"
    }
   ],
   "source": [
    "menu_df = spark.read.format(\"csv\").option(\"inferschema\",\"true\").schema(schema).load(\"../dataset/menu.csv.txt\")\n",
    "display(sales_df)"
   ]
  },
  {
   "cell_type": "code",
   "execution_count": 9,
   "id": "98906d1c-a74a-4455-848b-a7aaf3484a27",
   "metadata": {},
   "outputs": [
    {
     "name": "stdout",
     "output_type": "stream",
     "text": [
      "+----------+------------+-----+\n",
      "|product_id|product_name|price|\n",
      "+----------+------------+-----+\n",
      "|         1|       PIZZA|  100|\n",
      "|         2|     Chowmin|  150|\n",
      "|         3|    sandwich|  120|\n",
      "|         4|        Dosa|  110|\n",
      "|         5|     Biryani|   80|\n",
      "|         6|       Pasta|  180|\n",
      "+----------+------------+-----+\n",
      "\n"
     ]
    }
   ],
   "source": [
    "menu_df.show()"
   ]
  },
  {
   "cell_type": "markdown",
   "id": "29d7a920-f794-42ee-bcc3-51473ca8267c",
   "metadata": {},
   "source": [
    "Deriving year, month and quarter from the given dates"
   ]
  },
  {
   "cell_type": "code",
   "execution_count": 10,
   "id": "44e23734-3f61-4e67-82d2-66ace686ee10",
   "metadata": {},
   "outputs": [],
   "source": [
    "from pyspark.sql.functions import month, quarter, year"
   ]
  },
  {
   "cell_type": "code",
   "execution_count": 11,
   "id": "c7ab797f-768c-4daa-8b03-a359fd76537a",
   "metadata": {},
   "outputs": [],
   "source": [
    "sales_df = sales_df.withColumn('order_year', year(sales_df['order_date']))"
   ]
  },
  {
   "cell_type": "code",
   "execution_count": 12,
   "id": "d6cdde4e-3f87-44cc-9d8b-7c44c2b5acc0",
   "metadata": {},
   "outputs": [],
   "source": [
    "sales_df = sales_df.withColumn('order_quarter', quarter(sales_df['order_date']))"
   ]
  },
  {
   "cell_type": "code",
   "execution_count": 13,
   "id": "73a20806-1f86-4773-ac27-418aed3b145a",
   "metadata": {},
   "outputs": [],
   "source": [
    "sales_df = sales_df.withColumn('order_month', month(sales_df['order_date']))"
   ]
  },
  {
   "cell_type": "code",
   "execution_count": 14,
   "id": "11588a2d-7989-45a8-b378-548535092498",
   "metadata": {},
   "outputs": [
    {
     "name": "stdout",
     "output_type": "stream",
     "text": [
      "+----------+-----------+----------+--------+------------+----------+-------------+-----------+\n",
      "|product_id|customer_id|order_date|location|source_order|order_year|order_quarter|order_month|\n",
      "+----------+-----------+----------+--------+------------+----------+-------------+-----------+\n",
      "|         1|          A|2023-01-01|   India|      Swiggy|      2023|            1|          1|\n",
      "|         2|          A|2022-01-01|   India|      Swiggy|      2022|            1|          1|\n",
      "|         2|          A|2023-01-07|   India|      Swiggy|      2023|            1|          1|\n",
      "|         3|          A|2023-01-10|   India|  Restaurant|      2023|            1|          1|\n",
      "|         3|          A|2022-01-11|   India|      Swiggy|      2022|            1|          1|\n",
      "|         3|          A|2023-01-11|   India|  Restaurant|      2023|            1|          1|\n",
      "|         2|          B|2022-02-01|   India|      Swiggy|      2022|            1|          2|\n",
      "|         2|          B|2023-01-02|   India|      Swiggy|      2023|            1|          1|\n",
      "|         1|          B|2023-01-04|   India|  Restaurant|      2023|            1|          1|\n",
      "|         1|          B|2023-02-11|   India|      Swiggy|      2023|            1|          2|\n",
      "|         3|          B|2023-01-16|   India|      zomato|      2023|            1|          1|\n",
      "|         3|          B|2022-02-01|   India|      zomato|      2022|            1|          2|\n",
      "|         3|          C|2023-01-01|   India|      zomato|      2023|            1|          1|\n",
      "|         1|          C|2023-01-01|      UK|      Swiggy|      2023|            1|          1|\n",
      "|         6|          C|2022-01-07|      UK|      zomato|      2022|            1|          1|\n",
      "|         3|          D|2023-02-16|      UK|  Restaurant|      2023|            1|          2|\n",
      "|         5|          D|2022-02-01|      UK|      zomato|      2022|            1|          2|\n",
      "|         3|          E|2023-02-01|      UK|  Restaurant|      2023|            1|          2|\n",
      "|         4|          E|2023-02-01|      UK|      Swiggy|      2023|            1|          2|\n",
      "|         4|          E|2023-02-07|      UK|  Restaurant|      2023|            1|          2|\n",
      "+----------+-----------+----------+--------+------------+----------+-------------+-----------+\n",
      "only showing top 20 rows\n",
      "\n"
     ]
    }
   ],
   "source": [
    "sales_df.show()"
   ]
  },
  {
   "cell_type": "markdown",
   "id": "2d158d3e-af0e-47c8-8075-472cca8b5c7a",
   "metadata": {},
   "source": [
    "Question 1: Total amount spent by each customer"
   ]
  },
  {
   "cell_type": "code",
   "execution_count": 15,
   "id": "253ce665-29d4-409f-b1ff-2e46efdc4877",
   "metadata": {},
   "outputs": [],
   "source": [
    "total_amount_spent = (sales_df.join(menu_df,'product_id').groupby('customer_id').agg({'price':'sum'}).orderBy('customer_id'))"
   ]
  },
  {
   "cell_type": "code",
   "execution_count": 16,
   "id": "dae62121-f916-4309-9930-0fade1a5cde5",
   "metadata": {},
   "outputs": [
    {
     "name": "stdout",
     "output_type": "stream",
     "text": [
      "+-----------+----------+\n",
      "|customer_id|sum(price)|\n",
      "+-----------+----------+\n",
      "|          A|    4260.0|\n",
      "|          B|    4440.0|\n",
      "|          C|    2400.0|\n",
      "|          D|    1200.0|\n",
      "|          E|    2040.0|\n",
      "+-----------+----------+\n",
      "\n"
     ]
    }
   ],
   "source": [
    "total_amount_spent.show()"
   ]
  },
  {
   "cell_type": "markdown",
   "id": "10cb2bb1-1946-4ae6-a67f-aaf293c86554",
   "metadata": {},
   "source": [
    "Question 2: Total amount spent by each food category"
   ]
  },
  {
   "cell_type": "code",
   "execution_count": 17,
   "id": "419f43e8-ffdb-4318-8a9f-4e864896c853",
   "metadata": {},
   "outputs": [],
   "source": [
    "total_amount_food = (sales_df.join(menu_df, 'product_id').groupby('product_name').agg({'price':'sum'}).orderBy('product_name'))"
   ]
  },
  {
   "cell_type": "code",
   "execution_count": 18,
   "id": "f2ebcbdd-4de3-4b47-a828-e49c5dad0ac7",
   "metadata": {},
   "outputs": [
    {
     "name": "stdout",
     "output_type": "stream",
     "text": [
      "+------------+----------+\n",
      "|product_name|sum(price)|\n",
      "+------------+----------+\n",
      "|     Biryani|     480.0|\n",
      "|     Chowmin|    3600.0|\n",
      "|        Dosa|    1320.0|\n",
      "|       PIZZA|    2100.0|\n",
      "|       Pasta|    1080.0|\n",
      "|    sandwich|    5760.0|\n",
      "+------------+----------+\n",
      "\n"
     ]
    }
   ],
   "source": [
    "total_amount_food.show()"
   ]
  },
  {
   "cell_type": "markdown",
   "id": "cbac4b63-774b-477a-b5b3-ac582e9ad8c7",
   "metadata": {},
   "source": [
    "Question 3: Total amount of sales in each month"
   ]
  },
  {
   "cell_type": "code",
   "execution_count": 24,
   "id": "f81a2290-24f2-487d-9c3f-e48560a739c3",
   "metadata": {},
   "outputs": [],
   "source": [
    "total_amount_rev = (sales_df.join(menu_df, 'product_id').groupby('order_month').agg({'price':'sum'}).orderBy('order_month'))"
   ]
  },
  {
   "cell_type": "code",
   "execution_count": 25,
   "id": "1fe638b4-554a-4ff7-9ce8-eb02b9e8465c",
   "metadata": {},
   "outputs": [
    {
     "name": "stdout",
     "output_type": "stream",
     "text": [
      "+-----------+----------+\n",
      "|order_month|sum(price)|\n",
      "+-----------+----------+\n",
      "|          1|    2960.0|\n",
      "|          2|    2730.0|\n",
      "|          3|     910.0|\n",
      "|          5|    2960.0|\n",
      "|          6|    2960.0|\n",
      "|          7|     910.0|\n",
      "|         11|     910.0|\n",
      "+-----------+----------+\n",
      "\n"
     ]
    }
   ],
   "source": [
    "total_amount_rev.show()"
   ]
  },
  {
   "cell_type": "markdown",
   "id": "e805507c-cb66-4caa-8e0a-77712ec6f87d",
   "metadata": {},
   "source": [
    "Question 4: Yearly sales"
   ]
  },
  {
   "cell_type": "code",
   "execution_count": 26,
   "id": "c08d13ac-f86f-4e45-90b4-21d5a0a1e7bb",
   "metadata": {},
   "outputs": [],
   "source": [
    "yearly_sales = (sales_df.join(menu_df, 'product_id').groupby('order_year').agg({'price':'sum'}).orderBy('order_year'))"
   ]
  },
  {
   "cell_type": "code",
   "execution_count": 27,
   "id": "396d6069-bac1-4e7e-93d9-477ef7a7bde6",
   "metadata": {},
   "outputs": [
    {
     "name": "stdout",
     "output_type": "stream",
     "text": [
      "+----------+----------+\n",
      "|order_year|sum(price)|\n",
      "+----------+----------+\n",
      "|      2022|    4350.0|\n",
      "|      2023|    9990.0|\n",
      "+----------+----------+\n",
      "\n"
     ]
    }
   ],
   "source": [
    "yearly_sales.show()"
   ]
  },
  {
   "cell_type": "markdown",
   "id": "405b9a7c-e5d6-46e8-8208-084d9fdf4c97",
   "metadata": {},
   "source": [
    "Question 5: Quarterly sales"
   ]
  },
  {
   "cell_type": "code",
   "execution_count": 28,
   "id": "dcd5db29-0554-48a0-81c6-3a6f2f482be8",
   "metadata": {},
   "outputs": [],
   "source": [
    "quar_sales = (sales_df.join(menu_df, 'product_id').groupby('order_quarter').agg({'price':'sum'}).orderBy('order_quarter'))"
   ]
  },
  {
   "cell_type": "code",
   "execution_count": 29,
   "id": "209a9d0c-8af9-4b18-a72a-b1f939bc72a2",
   "metadata": {},
   "outputs": [
    {
     "name": "stdout",
     "output_type": "stream",
     "text": [
      "+-------------+----------+\n",
      "|order_quarter|sum(price)|\n",
      "+-------------+----------+\n",
      "|            1|    6600.0|\n",
      "|            2|    5920.0|\n",
      "|            3|     910.0|\n",
      "|            4|     910.0|\n",
      "+-------------+----------+\n",
      "\n"
     ]
    }
   ],
   "source": [
    "quar_sales.show()"
   ]
  },
  {
   "cell_type": "markdown",
   "id": "2d5cc9e9-30f9-4448-98b4-591c5d48e179",
   "metadata": {},
   "source": [
    "Question 6: How many times each product has been purchased"
   ]
  },
  {
   "cell_type": "code",
   "execution_count": 34,
   "id": "d477b2c0-be53-4372-b44d-44176f5e6b69",
   "metadata": {},
   "outputs": [],
   "source": [
    "count_df = (sales_df.join(menu_df,'product_id').groupby('product_id','product_name').agg(F.count('product_id').alias('product_count')).orderBy('product_count', ascending=0).drop('product_id'))"
   ]
  },
  {
   "cell_type": "code",
   "execution_count": 35,
   "id": "c3bd1b3e-b61e-4c58-a215-04a4adc86af6",
   "metadata": {},
   "outputs": [
    {
     "name": "stdout",
     "output_type": "stream",
     "text": [
      "+------------+-------------+\n",
      "|product_name|product_count|\n",
      "+------------+-------------+\n",
      "|    sandwich|           48|\n",
      "|     Chowmin|           24|\n",
      "|       PIZZA|           21|\n",
      "|        Dosa|           12|\n",
      "|     Biryani|            6|\n",
      "|       Pasta|            6|\n",
      "+------------+-------------+\n",
      "\n"
     ]
    }
   ],
   "source": [
    "count_df.show()"
   ]
  },
  {
   "cell_type": "markdown",
   "id": "86390297-20e5-47a8-a6ea-bcfceafe60e6",
   "metadata": {},
   "source": [
    "Question 7: Top five ordered items"
   ]
  },
  {
   "cell_type": "code",
   "execution_count": 36,
   "id": "0a92b57a-86da-4cf7-aba2-7e5048c3350a",
   "metadata": {},
   "outputs": [
    {
     "name": "stdout",
     "output_type": "stream",
     "text": [
      "+------------+-------------+\n",
      "|product_name|product_count|\n",
      "+------------+-------------+\n",
      "|    sandwich|           48|\n",
      "|     Chowmin|           24|\n",
      "|       PIZZA|           21|\n",
      "|        Dosa|           12|\n",
      "|     Biryani|            6|\n",
      "+------------+-------------+\n",
      "\n"
     ]
    }
   ],
   "source": [
    "count_df.limit(5).show()"
   ]
  },
  {
   "cell_type": "markdown",
   "id": "2724b789-9f42-4c1b-aa74-4202439404ff",
   "metadata": {},
   "source": [
    "Question 8: Top ordered item"
   ]
  },
  {
   "cell_type": "code",
   "execution_count": 37,
   "id": "f52715b9-c7c7-47c0-a45c-4ce01ba0f526",
   "metadata": {},
   "outputs": [
    {
     "name": "stdout",
     "output_type": "stream",
     "text": [
      "+------------+-------------+\n",
      "|product_name|product_count|\n",
      "+------------+-------------+\n",
      "|    sandwich|           48|\n",
      "+------------+-------------+\n",
      "\n"
     ]
    }
   ],
   "source": [
    "count_df.limit(1).show()"
   ]
  },
  {
   "cell_type": "markdown",
   "id": "c70c1415-04a7-4b29-bdac-33e94f7c6201",
   "metadata": {},
   "source": [
    "Question 9: Frequency of the customer visited to the restaurant"
   ]
  },
  {
   "cell_type": "code",
   "execution_count": 40,
   "id": "bc1fc9a9-a544-4ef9-9cd9-ef863c938894",
   "metadata": {},
   "outputs": [],
   "source": [
    "freq = (sales_df.filter(sales_df.source_order == 'Restaurant').groupby('customer_id').agg(F.countDistinct('order_date')).orderBy('customer_id'))"
   ]
  },
  {
   "cell_type": "code",
   "execution_count": 41,
   "id": "b06ae16e-5431-4a9a-a9fe-1f24817b0957",
   "metadata": {},
   "outputs": [
    {
     "name": "stdout",
     "output_type": "stream",
     "text": [
      "+-----------+-----------------+\n",
      "|customer_id|count(order_date)|\n",
      "+-----------+-----------------+\n",
      "|          A|                6|\n",
      "|          B|                6|\n",
      "|          C|                3|\n",
      "|          D|                1|\n",
      "|          E|                5|\n",
      "+-----------+-----------------+\n",
      "\n"
     ]
    }
   ],
   "source": [
    "freq.show()"
   ]
  },
  {
   "cell_type": "markdown",
   "id": "402945bb-6608-41b2-9ae7-4489ffc6504b",
   "metadata": {},
   "source": [
    "Question 10: Total sales by each country"
   ]
  },
  {
   "cell_type": "code",
   "execution_count": 42,
   "id": "91385119-59e1-4a87-9538-4afa52f551b6",
   "metadata": {},
   "outputs": [],
   "source": [
    "sales_country = (sales_df.join(menu_df, 'product_id').groupby('location').agg({'price':'sum'}))"
   ]
  },
  {
   "cell_type": "code",
   "execution_count": 43,
   "id": "ebd233ce-5330-489b-bce0-b5c65e8df1c6",
   "metadata": {},
   "outputs": [
    {
     "name": "stdout",
     "output_type": "stream",
     "text": [
      "+--------+----------+\n",
      "|location|sum(price)|\n",
      "+--------+----------+\n",
      "|   India|    4860.0|\n",
      "|     USA|    2460.0|\n",
      "|      UK|    7020.0|\n",
      "+--------+----------+\n",
      "\n"
     ]
    }
   ],
   "source": [
    "sales_country.show()"
   ]
  },
  {
   "cell_type": "markdown",
   "id": "c9b2fb0f-1434-42a9-a615-96e24ba1ae01",
   "metadata": {},
   "source": [
    "Question 11: Total sales by order_source"
   ]
  },
  {
   "cell_type": "code",
   "execution_count": 45,
   "id": "8a1ab9d3-745d-496f-b442-fac1fd7b8744",
   "metadata": {},
   "outputs": [],
   "source": [
    "sales_order = (sales_df.join(menu_df, 'product_id').groupby('source_order').agg({'price':'sum'}))"
   ]
  },
  {
   "cell_type": "code",
   "execution_count": 46,
   "id": "6d0ccaa6-f050-4e55-83c1-d98adc18aad4",
   "metadata": {},
   "outputs": [
    {
     "name": "stdout",
     "output_type": "stream",
     "text": [
      "+------------+----------+\n",
      "|source_order|sum(price)|\n",
      "+------------+----------+\n",
      "|      zomato|    4920.0|\n",
      "|      Swiggy|    6330.0|\n",
      "|  Restaurant|    3090.0|\n",
      "+------------+----------+\n",
      "\n"
     ]
    }
   ],
   "source": [
    "sales_order.show()"
   ]
  },
  {
   "cell_type": "code",
   "execution_count": null,
   "id": "3e1f0b09-7af0-42b5-b99b-2d5b6b6d5fdd",
   "metadata": {},
   "outputs": [],
   "source": []
  }
 ],
 "metadata": {
  "kernelspec": {
   "display_name": "Python 3 (ipykernel)",
   "language": "python",
   "name": "python3"
  },
  "language_info": {
   "codemirror_mode": {
    "name": "ipython",
    "version": 3
   },
   "file_extension": ".py",
   "mimetype": "text/x-python",
   "name": "python",
   "nbconvert_exporter": "python",
   "pygments_lexer": "ipython3",
   "version": "3.8.10"
  }
 },
 "nbformat": 4,
 "nbformat_minor": 5
}
